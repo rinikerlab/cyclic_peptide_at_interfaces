{
 "cells": [
  {
   "cell_type": "markdown",
   "metadata": {},
   "source": [
    "# Prepare files with external coordinates for MSM analysis of CDP simulations"
   ]
  },
  {
   "cell_type": "markdown",
   "metadata": {},
   "source": [
    "## Import functions"
   ]
  },
  {
   "cell_type": "code",
   "execution_count": 17,
   "metadata": {},
   "outputs": [],
   "source": [
    "import math\n",
    "import numpy as np\n",
    "import pandas as pd\n",
    "import mdtraj\n",
    "import itertools"
   ]
  },
  {
   "cell_type": "markdown",
   "metadata": {},
   "source": [
    "## Functions"
   ]
  },
  {
   "cell_type": "code",
   "execution_count": 18,
   "metadata": {},
   "outputs": [],
   "source": [
    "def angle_between(v1, v2):\n",
    "\n",
    "    v1_u = unit_vector(v1)\n",
    "    v2_u = unit_vector(v2)\n",
    "\n",
    "    # calculate sign\n",
    "    # unit vector that defines sign\n",
    "    unit_vec_sign = unit_vector(np.array([1,1,1]))\n",
    "    cross_prod = unit_vector(np.cross(unit_vec_sign,v1_u))\n",
    "    sinus_vec = np.dot(cross_prod, v2_u)\n",
    "\n",
    "    if sinus_vec >= 0:\n",
    "        return np.arccos(np.clip(np.dot(v1_u, v2_u), -1.0, 1.0))\n",
    "    else:\n",
    "        return 2*np.pi - np.arccos(np.clip(np.dot(v1_u, v2_u), -1.0, 1.0))\n",
    "\n",
    "\n",
    "def unit_vector(vector):\n",
    "    \"\"\" Returns the unit vector of the vector.  \"\"\"\n",
    "    return vector / np.linalg.norm(vector)"
   ]
  },
  {
   "cell_type": "markdown",
   "metadata": {},
   "source": [
    "## Constances"
   ]
  },
  {
   "cell_type": "code",
   "execution_count": 25,
   "metadata": {},
   "outputs": [],
   "source": [
    "### Choose backbone atoms for the definition of the axes when calculating the peptide's normal plane.\n",
    "    ### Depends on the specific CDP, exemplary for CDP 1\n",
    "# Atoms for longitudinal axis\n",
    "ellipsoid_atoms_longitudinal = np.array([28, 75])\n",
    "# Atoms for transversal axis\n",
    "ellipsoid_atoms_transversal = np.array([9, 58])\n",
    "\n",
    "#Cutoff for atom-distance\n",
    "cutoff_pep = .5\n",
    "cutoff_aa = .5"
   ]
  },
  {
   "cell_type": "markdown",
   "metadata": {},
   "source": [
    "## Load .pdb & mdtraj"
   ]
  },
  {
   "cell_type": "code",
   "execution_count": 20,
   "metadata": {},
   "outputs": [],
   "source": [
    "# Directories\n",
    "simulation = 'yourtrajectoryfilename.pdb'\n",
    "\n",
    "# Name\n",
    "filename = str('youroutputfilename')"
   ]
  },
  {
   "cell_type": "code",
   "execution_count": 21,
   "metadata": {},
   "outputs": [],
   "source": [
    "loaded_pdb = mdtraj.load_pdb(simulation)\n",
    "topology = loaded_pdb.topology\n",
    "\n",
    "h2o_atoms = topology.select(\"resname SOLV\")\n",
    "h2o = int(len(h2o_atoms)/3)\n",
    "chcl3_atoms = topology.select(\"resname CHCL\")\n",
    "chcl3 = int(len(chcl3_atoms)/5)\n",
    "\n",
    "h2o_traj = loaded_pdb.atom_slice(h2o_atoms)\n",
    "chcl3_traj = loaded_pdb.atom_slice(chcl3_atoms)\n",
    "\n",
    "h2o_com = mdtraj.compute_center_of_mass(h2o_traj)\n",
    "chcl3_com = mdtraj.compute_center_of_mass(chcl3_traj)\n",
    "\n",
    "axis = chcl3_com-h2o_com"
   ]
  },
  {
   "cell_type": "markdown",
   "metadata": {},
   "source": [
    "## CDP Position"
   ]
  },
  {
   "cell_type": "code",
   "execution_count": 22,
   "metadata": {},
   "outputs": [],
   "source": [
    "### Define molecule groups   \n",
    "group_pep = range(10)\n",
    "group_solv = range(10,10+h2o+chcl3)\n",
    "group_chcl3 = []\n",
    "group_h2o = []\n",
    "for number in group_solv:\n",
    "    if 'CHCL' in str(topology.residue(number)):\n",
    "        group_chcl3.append(number)\n",
    "    elif 'SOLV' in str(topology.residue(number)):\n",
    "        group_h2o.append(number)\n",
    "\n",
    "### Analyse peptide // CHCl<sub>3</sub> contacts        \n",
    "#create array that matches one peptide residue to every chloroform residue \n",
    "pairs_chcl3 = list(itertools.product(group_pep, group_chcl3))\n",
    "# generate array with, its length shoud equal the number of frames \n",
    "counted_chloroform_contact = np.zeros(loaded_pdb.n_frames)\n",
    "residue_contact_chcl3 = mdtraj.compute_contacts(loaded_pdb, contacts=pairs_chcl3, scheme='closest', ignore_nonprotein=False, periodic=True, soft_min=False, soft_min_beta=20)\n",
    "# the contacts are stored in residue_contact[0] with shape steps x contactpairs\n",
    "# we go through the contacts step by step and count how many contacts are lower than the cutoff\n",
    "for timestep in range(loaded_pdb.n_frames):\n",
    "    all_distances_timestep = residue_contact_chcl3[0][timestep,:]\n",
    "    # here we use the fact that False counts as 0 and True as 1\n",
    "    all_contacts_chcl3 = np.sum(all_distances_timestep<cutoff_pep)\n",
    "    counted_chloroform_contact[timestep] = all_contacts_chcl3     \n",
    "\n",
    "### Analyse peptide // H<sub>2</sub>O contacts\n",
    "pairs_h2o = list(itertools.product(group_pep, group_h2o))\n",
    "# generate array with, its length shoud equal the number of frames \n",
    "counted_water_contact = np.zeros(loaded_pdb.n_frames)\n",
    "residue_contact_h2o = mdtraj.compute_contacts(loaded_pdb, contacts=pairs_h2o, scheme='closest', ignore_nonprotein=False, periodic=True, soft_min=False, soft_min_beta=20)\n",
    "# the contacts are stored in residue_contact[0] with shape steps x contactpairs\n",
    "# we go through the contacts step by step and count how many contacts are lower than the cutoff\n",
    "for timestep in range(loaded_pdb.n_frames):\n",
    "    all_distances_timestep = residue_contact_h2o[0][timestep,:]\n",
    "    # here we use the fact that False counts as 0 and True as 1\n",
    "    all_contacts_h2o = np.sum(all_distances_timestep<cutoff_pep)\n",
    "    counted_water_contact[timestep] = all_contacts_h2o\n",
    "\n",
    "position = counted_chloroform_contact/(counted_water_contact+counted_chloroform_contact)\n",
    "\n",
    "### Table Position\n",
    "table_position = pd.DataFrame(position,columns=['position'])\n",
    "#table_position.to_csv('yourtargetdirectory'+filename+'_position.csv',index=False)"
   ]
  },
  {
   "cell_type": "markdown",
   "metadata": {},
   "source": [
    "## CDP Orientation"
   ]
  },
  {
   "cell_type": "code",
   "execution_count": 23,
   "metadata": {},
   "outputs": [],
   "source": [
    "all_angles_longitudinal = np.zeros(loaded_pdb.n_frames)\n",
    "all_angles_transversal = np.zeros(loaded_pdb.n_frames)\n",
    "all_angles_normal = np.zeros(loaded_pdb.n_frames)\n",
    "\n",
    "# get the corresponding coordinates and put them in the right format \n",
    "# here we select the frame, if you have a trajectory you have to loop them \n",
    "for frame in range(loaded_pdb.n_frames):\n",
    "\n",
    "    # get the coordinates of the specified frame \n",
    "    ellipsoid_coordinates_longitudinal =  loaded_pdb.xyz[frame,ellipsoid_atoms_longitudinal,:]\n",
    "    ellipsoid_coordinates_transversal =  loaded_pdb.xyz[frame,ellipsoid_atoms_transversal,:]\n",
    "\n",
    "    # get distance vector \n",
    "\n",
    "    distance_vector_longitudinal = ellipsoid_coordinates_longitudinal[0] - ellipsoid_coordinates_longitudinal[1]\n",
    "    distance_vector_transversal = ellipsoid_coordinates_transversal[0] - ellipsoid_coordinates_transversal[1]\n",
    "\n",
    "    # other vectors\n",
    "    peptide_normal_vector = np.cross(distance_vector_longitudinal, distance_vector_transversal)\n",
    "\n",
    "    # return angles in radians units (normal)\n",
    "    angle_rad_normal = angle_between(axis[frame], peptide_normal_vector)\n",
    "    all_angles_normal[frame] = angle_rad_normal\n",
    "\n",
    "    # return angles in radians units (longitudinal)\n",
    "    angle_rad_longitudinal = angle_between(axis[frame], distance_vector_longitudinal)\n",
    "    all_angles_longitudinal[frame] = angle_rad_longitudinal\n",
    "\n",
    "    # return angles in radians units (transversal)\n",
    "    angle_rad_transversal = angle_between(axis[frame], distance_vector_transversal)\n",
    "    all_angles_transversal[frame] = angle_rad_transversal\n",
    "\n",
    "all_angles_normal_cos = np.cos(all_angles_normal)\n",
    "all_angles_longitudinal_cos = np.cos(all_angles_longitudinal)\n",
    "all_angles_transversal_cos = np.cos(all_angles_transversal)\n",
    "\n",
    "### Table Orientation\n",
    "\n",
    "table_all_angles_normal_cos = pd.DataFrame(all_angles_normal_cos,columns=['all_angles_normal_cos'])\n",
    "#table_all_angles_normal_cos.to_csv('yourtargetdirectory'+filename+'_orientation.csv'.csv',index=False)"
   ]
  },
  {
   "cell_type": "code",
   "execution_count": null,
   "metadata": {},
   "outputs": [],
   "source": []
  }
 ],
 "metadata": {
  "kernelspec": {
   "display_name": "Python (2020_fall_sem_proj)",
   "language": "python",
   "name": "myenv"
  },
  "language_info": {
   "codemirror_mode": {
    "name": "ipython",
    "version": 3
   },
   "file_extension": ".py",
   "mimetype": "text/x-python",
   "name": "python",
   "nbconvert_exporter": "python",
   "pygments_lexer": "ipython3",
   "version": "3.8.6"
  }
 },
 "nbformat": 4,
 "nbformat_minor": 4
}
